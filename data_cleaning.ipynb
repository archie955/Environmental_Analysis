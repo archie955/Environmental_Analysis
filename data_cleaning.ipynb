{
 "cells": [
  {
   "cell_type": "code",
   "execution_count": 2,
   "id": "d916d5b9",
   "metadata": {},
   "outputs": [],
   "source": [
    "import pandas as pd\n",
    "import numpy as np"
   ]
  },
  {
   "cell_type": "code",
   "execution_count": 3,
   "id": "54d8b312",
   "metadata": {},
   "outputs": [
    {
     "name": "stderr",
     "output_type": "stream",
     "text": [
      "/tmp/ipykernel_2324/310841554.py:1: DtypeWarning: Columns (0,1,2) have mixed types. Specify dtype option on import or set low_memory=False.\n",
      "  pm10_2004 = pd.read_csv(\"data/mappm102004g.csv\")\n"
     ]
    },
    {
     "data": {
      "text/html": [
       "<div>\n",
       "<style scoped>\n",
       "    .dataframe tbody tr th:only-of-type {\n",
       "        vertical-align: middle;\n",
       "    }\n",
       "\n",
       "    .dataframe tbody tr th {\n",
       "        vertical-align: top;\n",
       "    }\n",
       "\n",
       "    .dataframe thead th {\n",
       "        text-align: right;\n",
       "    }\n",
       "</style>\n",
       "<table border=\"1\" class=\"dataframe\">\n",
       "  <thead>\n",
       "    <tr style=\"text-align: right;\">\n",
       "      <th></th>\n",
       "      <th>pm10</th>\n",
       "      <th>Unnamed: 1</th>\n",
       "      <th>Unnamed: 2</th>\n",
       "      <th>Unnamed: 3</th>\n",
       "    </tr>\n",
       "  </thead>\n",
       "  <tbody>\n",
       "    <tr>\n",
       "      <th>0</th>\n",
       "      <td>2004</td>\n",
       "      <td>NaN</td>\n",
       "      <td>NaN</td>\n",
       "      <td>NaN</td>\n",
       "    </tr>\n",
       "    <tr>\n",
       "      <th>1</th>\n",
       "      <td>annual mean</td>\n",
       "      <td>NaN</td>\n",
       "      <td>NaN</td>\n",
       "      <td>NaN</td>\n",
       "    </tr>\n",
       "    <tr>\n",
       "      <th>2</th>\n",
       "      <td>ug m-3 (gravimetric units)</td>\n",
       "      <td>NaN</td>\n",
       "      <td>NaN</td>\n",
       "      <td>NaN</td>\n",
       "    </tr>\n",
       "    <tr>\n",
       "      <th>3</th>\n",
       "      <td>NaN</td>\n",
       "      <td>NaN</td>\n",
       "      <td>NaN</td>\n",
       "      <td>NaN</td>\n",
       "    </tr>\n",
       "    <tr>\n",
       "      <th>4</th>\n",
       "      <td>ukgridcode</td>\n",
       "      <td>x</td>\n",
       "      <td>y</td>\n",
       "      <td>pm102004g</td>\n",
       "    </tr>\n",
       "  </tbody>\n",
       "</table>\n",
       "</div>"
      ],
      "text/plain": [
       "                         pm10 Unnamed: 1 Unnamed: 2 Unnamed: 3\n",
       "0                        2004        NaN        NaN        NaN\n",
       "1                 annual mean        NaN        NaN        NaN\n",
       "2  ug m-3 (gravimetric units)        NaN        NaN        NaN\n",
       "3                         NaN        NaN        NaN        NaN\n",
       "4                  ukgridcode          x          y  pm102004g"
      ]
     },
     "execution_count": 3,
     "metadata": {},
     "output_type": "execute_result"
    }
   ],
   "source": [
    "pm10_2004 = pd.read_csv(\"data/mappm102004g.csv\")\n",
    "\n",
    "pm10_2004.head()"
   ]
  },
  {
   "cell_type": "code",
   "execution_count": 4,
   "id": "9a358ef8",
   "metadata": {},
   "outputs": [
    {
     "data": {
      "text/html": [
       "<div>\n",
       "<style scoped>\n",
       "    .dataframe tbody tr th:only-of-type {\n",
       "        vertical-align: middle;\n",
       "    }\n",
       "\n",
       "    .dataframe tbody tr th {\n",
       "        vertical-align: top;\n",
       "    }\n",
       "\n",
       "    .dataframe thead th {\n",
       "        text-align: right;\n",
       "    }\n",
       "</style>\n",
       "<table border=\"1\" class=\"dataframe\">\n",
       "  <thead>\n",
       "    <tr style=\"text-align: right;\">\n",
       "      <th></th>\n",
       "      <th>pm10</th>\n",
       "      <th>Unnamed: 1</th>\n",
       "      <th>Unnamed: 2</th>\n",
       "      <th>Unnamed: 3</th>\n",
       "    </tr>\n",
       "  </thead>\n",
       "  <tbody>\n",
       "    <tr>\n",
       "      <th>0</th>\n",
       "      <td>2004</td>\n",
       "      <td>NaN</td>\n",
       "      <td>NaN</td>\n",
       "      <td>NaN</td>\n",
       "    </tr>\n",
       "    <tr>\n",
       "      <th>1</th>\n",
       "      <td>annual mean</td>\n",
       "      <td>NaN</td>\n",
       "      <td>NaN</td>\n",
       "      <td>NaN</td>\n",
       "    </tr>\n",
       "    <tr>\n",
       "      <th>2</th>\n",
       "      <td>ug m-3 (gravimetric units)</td>\n",
       "      <td>NaN</td>\n",
       "      <td>NaN</td>\n",
       "      <td>NaN</td>\n",
       "    </tr>\n",
       "    <tr>\n",
       "      <th>3</th>\n",
       "      <td>NaN</td>\n",
       "      <td>NaN</td>\n",
       "      <td>NaN</td>\n",
       "      <td>NaN</td>\n",
       "    </tr>\n",
       "    <tr>\n",
       "      <th>4</th>\n",
       "      <td>ukgridcode</td>\n",
       "      <td>x</td>\n",
       "      <td>y</td>\n",
       "      <td>pm102004g</td>\n",
       "    </tr>\n",
       "    <tr>\n",
       "      <th>5</th>\n",
       "      <td>54291</td>\n",
       "      <td>460500</td>\n",
       "      <td>1221500</td>\n",
       "      <td>MISSING</td>\n",
       "    </tr>\n",
       "    <tr>\n",
       "      <th>6</th>\n",
       "      <td>54292</td>\n",
       "      <td>461500</td>\n",
       "      <td>1221500</td>\n",
       "      <td>MISSING</td>\n",
       "    </tr>\n",
       "    <tr>\n",
       "      <th>7</th>\n",
       "      <td>54294</td>\n",
       "      <td>463500</td>\n",
       "      <td>1221500</td>\n",
       "      <td>MISSING</td>\n",
       "    </tr>\n",
       "    <tr>\n",
       "      <th>8</th>\n",
       "      <td>54979</td>\n",
       "      <td>458500</td>\n",
       "      <td>1220500</td>\n",
       "      <td>MISSING</td>\n",
       "    </tr>\n",
       "    <tr>\n",
       "      <th>9</th>\n",
       "      <td>54980</td>\n",
       "      <td>459500</td>\n",
       "      <td>1220500</td>\n",
       "      <td>MISSING</td>\n",
       "    </tr>\n",
       "  </tbody>\n",
       "</table>\n",
       "</div>"
      ],
      "text/plain": [
       "                         pm10 Unnamed: 1 Unnamed: 2 Unnamed: 3\n",
       "0                        2004        NaN        NaN        NaN\n",
       "1                 annual mean        NaN        NaN        NaN\n",
       "2  ug m-3 (gravimetric units)        NaN        NaN        NaN\n",
       "3                         NaN        NaN        NaN        NaN\n",
       "4                  ukgridcode          x          y  pm102004g\n",
       "5                       54291     460500    1221500    MISSING\n",
       "6                       54292     461500    1221500    MISSING\n",
       "7                       54294     463500    1221500    MISSING\n",
       "8                       54979     458500    1220500    MISSING\n",
       "9                       54980     459500    1220500    MISSING"
      ]
     },
     "execution_count": 4,
     "metadata": {},
     "output_type": "execute_result"
    }
   ],
   "source": [
    "pm10_2004.head(10)"
   ]
  },
  {
   "cell_type": "code",
   "execution_count": 5,
   "id": "ac57b656",
   "metadata": {},
   "outputs": [
    {
     "data": {
      "text/html": [
       "<div>\n",
       "<style scoped>\n",
       "    .dataframe tbody tr th:only-of-type {\n",
       "        vertical-align: middle;\n",
       "    }\n",
       "\n",
       "    .dataframe tbody tr th {\n",
       "        vertical-align: top;\n",
       "    }\n",
       "\n",
       "    .dataframe thead th {\n",
       "        text-align: right;\n",
       "    }\n",
       "</style>\n",
       "<table border=\"1\" class=\"dataframe\">\n",
       "  <thead>\n",
       "    <tr style=\"text-align: right;\">\n",
       "      <th></th>\n",
       "      <th>ukgridcode</th>\n",
       "      <th>x</th>\n",
       "      <th>y</th>\n",
       "      <th>pm10</th>\n",
       "    </tr>\n",
       "  </thead>\n",
       "  <tbody>\n",
       "    <tr>\n",
       "      <th>5</th>\n",
       "      <td>54291</td>\n",
       "      <td>460500</td>\n",
       "      <td>1221500</td>\n",
       "      <td>MISSING</td>\n",
       "    </tr>\n",
       "    <tr>\n",
       "      <th>6</th>\n",
       "      <td>54292</td>\n",
       "      <td>461500</td>\n",
       "      <td>1221500</td>\n",
       "      <td>MISSING</td>\n",
       "    </tr>\n",
       "    <tr>\n",
       "      <th>7</th>\n",
       "      <td>54294</td>\n",
       "      <td>463500</td>\n",
       "      <td>1221500</td>\n",
       "      <td>MISSING</td>\n",
       "    </tr>\n",
       "    <tr>\n",
       "      <th>8</th>\n",
       "      <td>54979</td>\n",
       "      <td>458500</td>\n",
       "      <td>1220500</td>\n",
       "      <td>MISSING</td>\n",
       "    </tr>\n",
       "    <tr>\n",
       "      <th>9</th>\n",
       "      <td>54980</td>\n",
       "      <td>459500</td>\n",
       "      <td>1220500</td>\n",
       "      <td>MISSING</td>\n",
       "    </tr>\n",
       "  </tbody>\n",
       "</table>\n",
       "</div>"
      ],
      "text/plain": [
       "  ukgridcode       x        y     pm10\n",
       "5      54291  460500  1221500  MISSING\n",
       "6      54292  461500  1221500  MISSING\n",
       "7      54294  463500  1221500  MISSING\n",
       "8      54979  458500  1220500  MISSING\n",
       "9      54980  459500  1220500  MISSING"
      ]
     },
     "execution_count": 5,
     "metadata": {},
     "output_type": "execute_result"
    }
   ],
   "source": [
    "pm10_2004.drop(labels=[0,1,2,3,4], inplace=True)\n",
    "\n",
    "pm10_2004.rename(columns={\"pm10\": \"ukgridcode\", \"Unnamed: 1\": \"x\", \"Unnamed: 2\": \"y\", \"Unnamed: 3\": \"pm10\"}, inplace=True)\n",
    "\n",
    "pm10_2004.head()"
   ]
  },
  {
   "cell_type": "code",
   "execution_count": 6,
   "id": "b68760af",
   "metadata": {},
   "outputs": [],
   "source": [
    "pm10_2004[\"pm10\"] = pd.to_numeric(pm10_2004[\"pm10\"], errors=\"coerce\")"
   ]
  },
  {
   "cell_type": "code",
   "execution_count": 8,
   "id": "ca6eae46",
   "metadata": {},
   "outputs": [],
   "source": [
    "pm10_2004 = pm10_2004.astype({\"x\": \"int\", \"y\": \"int\"})"
   ]
  },
  {
   "cell_type": "code",
   "execution_count": 9,
   "id": "8b214fee",
   "metadata": {},
   "outputs": [],
   "source": [
    "x_coords = np.sort(pm10_2004[\"x\"].unique())\n",
    "y_coords = np.sort(pm10_2004[\"y\"].unique())"
   ]
  },
  {
   "cell_type": "code",
   "execution_count": 10,
   "id": "1dc8a967",
   "metadata": {},
   "outputs": [],
   "source": [
    "raster = pm10_2004.pivot(index=\"y\", columns=\"x\", values=\"pm10\").sort_index(ascending=False)\n"
   ]
  },
  {
   "cell_type": "code",
   "execution_count": 11,
   "id": "553afda7",
   "metadata": {},
   "outputs": [],
   "source": [
    "import rasterio\n",
    "from rasterio.transform import from_origin"
   ]
  },
  {
   "cell_type": "code",
   "execution_count": 13,
   "id": "f731d135",
   "metadata": {},
   "outputs": [],
   "source": [
    "pixel_size = 1000\n",
    "transform = from_origin(x_coords.min(), y_coords.max(), pixel_size, pixel_size)\n",
    "\n",
    "with rasterio.open(\n",
    "    \"data/pollution_PM10.tif\",\n",
    "    \"w\",\n",
    "    driver=\"GTiff\",\n",
    "    height=raster.shape[0],\n",
    "    width=raster.shape[1],\n",
    "    count=1,\n",
    "    dtype=\"float32\",\n",
    "    crs=\"EPSG:27700\",\n",
    "    transform=transform,\n",
    "    nodata=np.nan,\n",
    ") as dst:\n",
    "    dst.write(raster.values.astype(\"float32\"), 1)"
   ]
  },
  {
   "cell_type": "code",
   "execution_count": 14,
   "id": "1ec56175",
   "metadata": {},
   "outputs": [],
   "source": [
    "# Now to load the LSOA and merge them together. First it would be good to load in and format all of the pollution data into the tifs I want and use fiona rather than geopandas to \n",
    "# open lsoa file. Just use pandas and then send to SQL. \n"
   ]
  },
  {
   "cell_type": "code",
   "execution_count": null,
   "id": "7a0ab1d1",
   "metadata": {},
   "outputs": [],
   "source": []
  }
 ],
 "metadata": {
  "kernelspec": {
   "display_name": "envvenv",
   "language": "python",
   "name": "python3"
  },
  "language_info": {
   "codemirror_mode": {
    "name": "ipython",
    "version": 3
   },
   "file_extension": ".py",
   "mimetype": "text/x-python",
   "name": "python",
   "nbconvert_exporter": "python",
   "pygments_lexer": "ipython3",
   "version": "3.10.12"
  }
 },
 "nbformat": 4,
 "nbformat_minor": 5
}

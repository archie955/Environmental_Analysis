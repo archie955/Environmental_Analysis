{
 "cells": [
  {
   "cell_type": "markdown",
   "id": "bc2d31b3",
   "metadata": {},
   "source": [
    "# Analysing the data\n",
    "## First, importing the data from SQL joined together with the relevant columns"
   ]
  },
  {
   "cell_type": "code",
   "execution_count": null,
   "id": "cee731bb",
   "metadata": {},
   "outputs": [],
   "source": [
    "import pandas as pd\n",
    "import numpy as np\n",
    "from sqlalchemy import create_engine\n",
    "from dotenv import load_dotenv\n",
    "import os\n"
   ]
  },
  {
   "cell_type": "code",
   "execution_count": null,
   "id": "bead8696",
   "metadata": {},
   "outputs": [],
   "source": [
    "load_dotenv()\n",
    "password = os.getenv(\"DATABASE_PASSWORD\")\n",
    "db_name = os.getenv(\"DATABASE_NAME\")\n",
    "port = os.getenv(\"DATABASE_PORT\")\n",
    "hostname = os.getenv(\"DATABASE_HOSTNAME\")\n",
    "username = os.getenv(\"DATABASE_USERNAME\")\n",
    "\n",
    "engine = create_engine(f\"postgresql+psycopg2://{username}:{password}@{hostname}:{port}/{db_name}\")"
   ]
  },
  {
   "cell_type": "code",
   "execution_count": null,
   "id": "85d3e780",
   "metadata": {},
   "outputs": [],
   "source": [
    "# pollution: geo_code, pm25_2007, pm25_2024, pm10_2007, pm10__2024, no2_2007, no2_2024\n",
    "# imd2007: join(msoa11_code), score\n",
    "# imd2024: join(msoac), imd19_score, msoarank\n",
    "\n",
    "query = \"SELECT \""
   ]
  }
 ],
 "metadata": {
  "kernelspec": {
   "display_name": "envvenv",
   "language": "python",
   "name": "python3"
  },
  "language_info": {
   "name": "python",
   "version": "3.10.12"
  }
 },
 "nbformat": 4,
 "nbformat_minor": 5
}

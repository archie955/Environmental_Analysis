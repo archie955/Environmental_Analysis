{
 "cells": [
  {
   "cell_type": "markdown",
   "id": "bc2d31b3",
   "metadata": {},
   "source": [
    "# Analysing the data\n",
    "## First, importing the data from SQL joined together with the relevant columns"
   ]
  },
  {
   "cell_type": "code",
   "execution_count": null,
   "id": "cee731bb",
   "metadata": {},
   "outputs": [],
   "source": [
    "import pandas as pd\n",
    "import numpy as np\n",
    "from sqlalchemy import create_engine\n"
   ]
  }
 ],
 "metadata": {
  "kernelspec": {
   "display_name": "envvenv",
   "language": "python",
   "name": "python3"
  },
  "language_info": {
   "name": "python",
   "version": "3.10.12"
  }
 },
 "nbformat": 4,
 "nbformat_minor": 5
}
